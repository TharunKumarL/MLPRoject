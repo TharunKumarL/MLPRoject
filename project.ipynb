{
 "cells": [
  {
   "cell_type": "code",
   "execution_count": 1,
   "metadata": {},
   "outputs": [],
   "source": [
    "import pyscreenshot as ImageGrab\n",
    "import time as time"
   ]
  },
  {
   "cell_type": "code",
   "execution_count": 2,
   "metadata": {},
   "outputs": [],
   "source": [
    "images_folder=\"captured_images/0/\""
   ]
  },
  {
   "cell_type": "code",
   "execution_count": 4,
   "metadata": {},
   "outputs": [
    {
     "name": "stdout",
     "output_type": "stream",
     "text": [
      "We successfully saved: 0\n",
      "We successfully saved: 1\n",
      "We successfully saved: 2\n",
      "We successfully saved: 3\n"
     ]
    }
   ],
   "source": [
    "import tkinter as tk\n",
    "from PIL import ImageGrab\n",
    "import os\n",
    "\n",
    "# Folder to save images\n",
    "images_folder = \"captured_images/0/\"\n",
    "if not os.path.exists(images_folder):\n",
    "    os.makedirs(images_folder)\n",
    "\n",
    "# Set up the main window\n",
    "root = tk.Tk()\n",
    "root.title(\"Draw and Capture\")\n",
    "\n",
    "# Set up the canvas for drawing\n",
    "canvas = tk.Canvas(root, width=400, height=400, bg='white')\n",
    "canvas.pack()\n",
    "\n",
    "# Variables to track the drawing state\n",
    "last_x, last_y = None, None\n",
    "\n",
    "# Functions to handle drawing\n",
    "def start_draw(event):\n",
    "    global last_x, last_y\n",
    "    last_x, last_y = event.x, event.y\n",
    "\n",
    "def draw(event):\n",
    "    global last_x, last_y\n",
    "    canvas.create_line((last_x, last_y, event.x, event.y), fill='black', width=5)\n",
    "    last_x, last_y = event.x, event.y\n",
    "\n",
    "def clear_canvas():\n",
    "    canvas.delete(\"all\")\n",
    "\n",
    "# Bind the mouse events to the canvas\n",
    "canvas.bind(\"<Button-1>\", start_draw)\n",
    "canvas.bind(\"<B1-Motion>\", draw)\n",
    "\n",
    "# Button to clear the canvas\n",
    "clear_button = tk.Button(root, text=\"Clear\", command=clear_canvas)\n",
    "clear_button.pack()\n",
    "\n",
    "# Function to capture and save the canvas content\n",
    "capture_count = 0\n",
    "\n",
    "def capture_images():\n",
    "    global capture_count\n",
    "    if capture_count < 5:\n",
    "        x = root.winfo_rootx() + canvas.winfo_x()\n",
    "        y = root.winfo_rooty() + canvas.winfo_y()\n",
    "        x1 = x + canvas.winfo_width()\n",
    "        y1 = y + canvas.winfo_height()\n",
    "        \n",
    "        # Capture the canvas content\n",
    "        im = ImageGrab.grab(bbox=(x, y, x1, y1))\n",
    "        im.save(f\"{images_folder}image_{capture_count}.png\")\n",
    "        print(f\"We successfully saved: {capture_count}\")\n",
    "        \n",
    "        capture_count += 1\n",
    "        root.after(8000, capture_images)  # Schedule the next capture after 8 seconds\n",
    "\n",
    "# Run the capture function after the canvas is set up\n",
    "root.after(1000, capture_images)\n",
    "\n",
    "# Run the tkinter main loop\n",
    "root.mainloop()\n"
   ]
  },
  {
   "cell_type": "code",
   "execution_count": null,
   "metadata": {},
   "outputs": [],
   "source": []
  }
 ],
 "metadata": {
  "kernelspec": {
   "display_name": "Python 3",
   "language": "python",
   "name": "python3"
  },
  "language_info": {
   "codemirror_mode": {
    "name": "ipython",
    "version": 3
   },
   "file_extension": ".py",
   "mimetype": "text/x-python",
   "name": "python",
   "nbconvert_exporter": "python",
   "pygments_lexer": "ipython3",
   "version": "3.11.2"
  }
 },
 "nbformat": 4,
 "nbformat_minor": 4
}
